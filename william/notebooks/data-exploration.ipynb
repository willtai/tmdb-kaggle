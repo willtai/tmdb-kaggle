{
 "cells": [
  {
   "cell_type": "markdown",
   "metadata": {},
   "source": [
    "### Imports and loading data"
   ]
  },
  {
   "cell_type": "code",
   "execution_count": 1,
   "metadata": {
    "scrolled": true
   },
   "outputs": [],
   "source": [
    "import numpy as np\n",
    "import pandas as pd\n",
    "import matplotlib.pyplot as plt\n",
    "plt.style.use('ggplot')\n",
    "\n",
    "df_raw = pd.read_csv('../../data/train.csv',index_col='id')"
   ]
  },
  {
   "cell_type": "code",
   "execution_count": 2,
   "metadata": {
    "scrolled": true
   },
   "outputs": [
    {
     "data": {
      "text/html": [
       "<div>\n",
       "<style scoped>\n",
       "    .dataframe tbody tr th:only-of-type {\n",
       "        vertical-align: middle;\n",
       "    }\n",
       "\n",
       "    .dataframe tbody tr th {\n",
       "        vertical-align: top;\n",
       "    }\n",
       "\n",
       "    .dataframe thead th {\n",
       "        text-align: right;\n",
       "    }\n",
       "</style>\n",
       "<table border=\"1\" class=\"dataframe\">\n",
       "  <thead>\n",
       "    <tr style=\"text-align: right;\">\n",
       "      <th></th>\n",
       "      <th>belongs_to_collection</th>\n",
       "      <th>budget</th>\n",
       "      <th>genres</th>\n",
       "      <th>homepage</th>\n",
       "      <th>imdb_id</th>\n",
       "      <th>original_language</th>\n",
       "      <th>original_title</th>\n",
       "      <th>overview</th>\n",
       "      <th>popularity</th>\n",
       "      <th>poster_path</th>\n",
       "      <th>...</th>\n",
       "      <th>release_date</th>\n",
       "      <th>runtime</th>\n",
       "      <th>spoken_languages</th>\n",
       "      <th>status</th>\n",
       "      <th>tagline</th>\n",
       "      <th>title</th>\n",
       "      <th>Keywords</th>\n",
       "      <th>cast</th>\n",
       "      <th>crew</th>\n",
       "      <th>revenue</th>\n",
       "    </tr>\n",
       "    <tr>\n",
       "      <th>id</th>\n",
       "      <th></th>\n",
       "      <th></th>\n",
       "      <th></th>\n",
       "      <th></th>\n",
       "      <th></th>\n",
       "      <th></th>\n",
       "      <th></th>\n",
       "      <th></th>\n",
       "      <th></th>\n",
       "      <th></th>\n",
       "      <th></th>\n",
       "      <th></th>\n",
       "      <th></th>\n",
       "      <th></th>\n",
       "      <th></th>\n",
       "      <th></th>\n",
       "      <th></th>\n",
       "      <th></th>\n",
       "      <th></th>\n",
       "      <th></th>\n",
       "      <th></th>\n",
       "    </tr>\n",
       "  </thead>\n",
       "  <tbody>\n",
       "    <tr>\n",
       "      <th>1</th>\n",
       "      <td>[{'id': 313576, 'name': 'Hot Tub Time Machine ...</td>\n",
       "      <td>14000000</td>\n",
       "      <td>[{'id': 35, 'name': 'Comedy'}]</td>\n",
       "      <td>NaN</td>\n",
       "      <td>tt2637294</td>\n",
       "      <td>en</td>\n",
       "      <td>Hot Tub Time Machine 2</td>\n",
       "      <td>When Lou, who has become the \"father of the In...</td>\n",
       "      <td>6.575393</td>\n",
       "      <td>/tQtWuwvMf0hCc2QR2tkolwl7c3c.jpg</td>\n",
       "      <td>...</td>\n",
       "      <td>2/20/15</td>\n",
       "      <td>93.0</td>\n",
       "      <td>[{'iso_639_1': 'en', 'name': 'English'}]</td>\n",
       "      <td>Released</td>\n",
       "      <td>The Laws of Space and Time are About to be Vio...</td>\n",
       "      <td>Hot Tub Time Machine 2</td>\n",
       "      <td>[{'id': 4379, 'name': 'time travel'}, {'id': 9...</td>\n",
       "      <td>[{'cast_id': 4, 'character': 'Lou', 'credit_id...</td>\n",
       "      <td>[{'credit_id': '59ac067c92514107af02c8c8', 'de...</td>\n",
       "      <td>12314651</td>\n",
       "    </tr>\n",
       "    <tr>\n",
       "      <th>2</th>\n",
       "      <td>[{'id': 107674, 'name': 'The Princess Diaries ...</td>\n",
       "      <td>40000000</td>\n",
       "      <td>[{'id': 35, 'name': 'Comedy'}, {'id': 18, 'nam...</td>\n",
       "      <td>NaN</td>\n",
       "      <td>tt0368933</td>\n",
       "      <td>en</td>\n",
       "      <td>The Princess Diaries 2: Royal Engagement</td>\n",
       "      <td>Mia Thermopolis is now a college graduate and ...</td>\n",
       "      <td>8.248895</td>\n",
       "      <td>/w9Z7A0GHEhIp7etpj0vyKOeU1Wx.jpg</td>\n",
       "      <td>...</td>\n",
       "      <td>8/6/04</td>\n",
       "      <td>113.0</td>\n",
       "      <td>[{'iso_639_1': 'en', 'name': 'English'}]</td>\n",
       "      <td>Released</td>\n",
       "      <td>It can take a lifetime to find true love; she'...</td>\n",
       "      <td>The Princess Diaries 2: Royal Engagement</td>\n",
       "      <td>[{'id': 2505, 'name': 'coronation'}, {'id': 42...</td>\n",
       "      <td>[{'cast_id': 1, 'character': 'Mia Thermopolis'...</td>\n",
       "      <td>[{'credit_id': '52fe43fe9251416c7502563d', 'de...</td>\n",
       "      <td>95149435</td>\n",
       "    </tr>\n",
       "    <tr>\n",
       "      <th>3</th>\n",
       "      <td>NaN</td>\n",
       "      <td>3300000</td>\n",
       "      <td>[{'id': 18, 'name': 'Drama'}]</td>\n",
       "      <td>http://sonyclassics.com/whiplash/</td>\n",
       "      <td>tt2582802</td>\n",
       "      <td>en</td>\n",
       "      <td>Whiplash</td>\n",
       "      <td>Under the direction of a ruthless instructor, ...</td>\n",
       "      <td>64.299990</td>\n",
       "      <td>/lIv1QinFqz4dlp5U4lQ6HaiskOZ.jpg</td>\n",
       "      <td>...</td>\n",
       "      <td>10/10/14</td>\n",
       "      <td>105.0</td>\n",
       "      <td>[{'iso_639_1': 'en', 'name': 'English'}]</td>\n",
       "      <td>Released</td>\n",
       "      <td>The road to greatness can take you to the edge.</td>\n",
       "      <td>Whiplash</td>\n",
       "      <td>[{'id': 1416, 'name': 'jazz'}, {'id': 1523, 'n...</td>\n",
       "      <td>[{'cast_id': 5, 'character': 'Andrew Neimann',...</td>\n",
       "      <td>[{'credit_id': '54d5356ec3a3683ba0000039', 'de...</td>\n",
       "      <td>13092000</td>\n",
       "    </tr>\n",
       "    <tr>\n",
       "      <th>4</th>\n",
       "      <td>NaN</td>\n",
       "      <td>1200000</td>\n",
       "      <td>[{'id': 53, 'name': 'Thriller'}, {'id': 18, 'n...</td>\n",
       "      <td>http://kahaanithefilm.com/</td>\n",
       "      <td>tt1821480</td>\n",
       "      <td>hi</td>\n",
       "      <td>Kahaani</td>\n",
       "      <td>Vidya Bagchi (Vidya Balan) arrives in Kolkata ...</td>\n",
       "      <td>3.174936</td>\n",
       "      <td>/aTXRaPrWSinhcmCrcfJK17urp3F.jpg</td>\n",
       "      <td>...</td>\n",
       "      <td>3/9/12</td>\n",
       "      <td>122.0</td>\n",
       "      <td>[{'iso_639_1': 'en', 'name': 'English'}, {'iso...</td>\n",
       "      <td>Released</td>\n",
       "      <td>NaN</td>\n",
       "      <td>Kahaani</td>\n",
       "      <td>[{'id': 10092, 'name': 'mystery'}, {'id': 1054...</td>\n",
       "      <td>[{'cast_id': 1, 'character': 'Vidya Bagchi', '...</td>\n",
       "      <td>[{'credit_id': '52fe48779251416c9108d6eb', 'de...</td>\n",
       "      <td>16000000</td>\n",
       "    </tr>\n",
       "    <tr>\n",
       "      <th>5</th>\n",
       "      <td>NaN</td>\n",
       "      <td>0</td>\n",
       "      <td>[{'id': 28, 'name': 'Action'}, {'id': 53, 'nam...</td>\n",
       "      <td>NaN</td>\n",
       "      <td>tt1380152</td>\n",
       "      <td>ko</td>\n",
       "      <td>마린보이</td>\n",
       "      <td>Marine Boy is the story of a former national s...</td>\n",
       "      <td>1.148070</td>\n",
       "      <td>/m22s7zvkVFDU9ir56PiiqIEWFdT.jpg</td>\n",
       "      <td>...</td>\n",
       "      <td>2/5/09</td>\n",
       "      <td>118.0</td>\n",
       "      <td>[{'iso_639_1': 'ko', 'name': '한국어/조선말'}]</td>\n",
       "      <td>Released</td>\n",
       "      <td>NaN</td>\n",
       "      <td>Marine Boy</td>\n",
       "      <td>NaN</td>\n",
       "      <td>[{'cast_id': 3, 'character': 'Chun-soo', 'cred...</td>\n",
       "      <td>[{'credit_id': '52fe464b9251416c75073b43', 'de...</td>\n",
       "      <td>3923970</td>\n",
       "    </tr>\n",
       "  </tbody>\n",
       "</table>\n",
       "<p>5 rows × 22 columns</p>\n",
       "</div>"
      ],
      "text/plain": [
       "                                belongs_to_collection    budget  \\\n",
       "id                                                                \n",
       "1   [{'id': 313576, 'name': 'Hot Tub Time Machine ...  14000000   \n",
       "2   [{'id': 107674, 'name': 'The Princess Diaries ...  40000000   \n",
       "3                                                 NaN   3300000   \n",
       "4                                                 NaN   1200000   \n",
       "5                                                 NaN         0   \n",
       "\n",
       "                                               genres  \\\n",
       "id                                                      \n",
       "1                      [{'id': 35, 'name': 'Comedy'}]   \n",
       "2   [{'id': 35, 'name': 'Comedy'}, {'id': 18, 'nam...   \n",
       "3                       [{'id': 18, 'name': 'Drama'}]   \n",
       "4   [{'id': 53, 'name': 'Thriller'}, {'id': 18, 'n...   \n",
       "5   [{'id': 28, 'name': 'Action'}, {'id': 53, 'nam...   \n",
       "\n",
       "                             homepage    imdb_id original_language  \\\n",
       "id                                                                   \n",
       "1                                 NaN  tt2637294                en   \n",
       "2                                 NaN  tt0368933                en   \n",
       "3   http://sonyclassics.com/whiplash/  tt2582802                en   \n",
       "4          http://kahaanithefilm.com/  tt1821480                hi   \n",
       "5                                 NaN  tt1380152                ko   \n",
       "\n",
       "                              original_title  \\\n",
       "id                                             \n",
       "1                     Hot Tub Time Machine 2   \n",
       "2   The Princess Diaries 2: Royal Engagement   \n",
       "3                                   Whiplash   \n",
       "4                                    Kahaani   \n",
       "5                                       마린보이   \n",
       "\n",
       "                                             overview  popularity  \\\n",
       "id                                                                  \n",
       "1   When Lou, who has become the \"father of the In...    6.575393   \n",
       "2   Mia Thermopolis is now a college graduate and ...    8.248895   \n",
       "3   Under the direction of a ruthless instructor, ...   64.299990   \n",
       "4   Vidya Bagchi (Vidya Balan) arrives in Kolkata ...    3.174936   \n",
       "5   Marine Boy is the story of a former national s...    1.148070   \n",
       "\n",
       "                         poster_path  ... release_date runtime  \\\n",
       "id                                    ...                        \n",
       "1   /tQtWuwvMf0hCc2QR2tkolwl7c3c.jpg  ...      2/20/15    93.0   \n",
       "2   /w9Z7A0GHEhIp7etpj0vyKOeU1Wx.jpg  ...       8/6/04   113.0   \n",
       "3   /lIv1QinFqz4dlp5U4lQ6HaiskOZ.jpg  ...     10/10/14   105.0   \n",
       "4   /aTXRaPrWSinhcmCrcfJK17urp3F.jpg  ...       3/9/12   122.0   \n",
       "5   /m22s7zvkVFDU9ir56PiiqIEWFdT.jpg  ...       2/5/09   118.0   \n",
       "\n",
       "                                     spoken_languages    status  \\\n",
       "id                                                                \n",
       "1            [{'iso_639_1': 'en', 'name': 'English'}]  Released   \n",
       "2            [{'iso_639_1': 'en', 'name': 'English'}]  Released   \n",
       "3            [{'iso_639_1': 'en', 'name': 'English'}]  Released   \n",
       "4   [{'iso_639_1': 'en', 'name': 'English'}, {'iso...  Released   \n",
       "5            [{'iso_639_1': 'ko', 'name': '한국어/조선말'}]  Released   \n",
       "\n",
       "                                              tagline  \\\n",
       "id                                                      \n",
       "1   The Laws of Space and Time are About to be Vio...   \n",
       "2   It can take a lifetime to find true love; she'...   \n",
       "3     The road to greatness can take you to the edge.   \n",
       "4                                                 NaN   \n",
       "5                                                 NaN   \n",
       "\n",
       "                                       title  \\\n",
       "id                                             \n",
       "1                     Hot Tub Time Machine 2   \n",
       "2   The Princess Diaries 2: Royal Engagement   \n",
       "3                                   Whiplash   \n",
       "4                                    Kahaani   \n",
       "5                                 Marine Boy   \n",
       "\n",
       "                                             Keywords  \\\n",
       "id                                                      \n",
       "1   [{'id': 4379, 'name': 'time travel'}, {'id': 9...   \n",
       "2   [{'id': 2505, 'name': 'coronation'}, {'id': 42...   \n",
       "3   [{'id': 1416, 'name': 'jazz'}, {'id': 1523, 'n...   \n",
       "4   [{'id': 10092, 'name': 'mystery'}, {'id': 1054...   \n",
       "5                                                 NaN   \n",
       "\n",
       "                                                 cast  \\\n",
       "id                                                      \n",
       "1   [{'cast_id': 4, 'character': 'Lou', 'credit_id...   \n",
       "2   [{'cast_id': 1, 'character': 'Mia Thermopolis'...   \n",
       "3   [{'cast_id': 5, 'character': 'Andrew Neimann',...   \n",
       "4   [{'cast_id': 1, 'character': 'Vidya Bagchi', '...   \n",
       "5   [{'cast_id': 3, 'character': 'Chun-soo', 'cred...   \n",
       "\n",
       "                                                 crew   revenue  \n",
       "id                                                               \n",
       "1   [{'credit_id': '59ac067c92514107af02c8c8', 'de...  12314651  \n",
       "2   [{'credit_id': '52fe43fe9251416c7502563d', 'de...  95149435  \n",
       "3   [{'credit_id': '54d5356ec3a3683ba0000039', 'de...  13092000  \n",
       "4   [{'credit_id': '52fe48779251416c9108d6eb', 'de...  16000000  \n",
       "5   [{'credit_id': '52fe464b9251416c75073b43', 'de...   3923970  \n",
       "\n",
       "[5 rows x 22 columns]"
      ]
     },
     "execution_count": 2,
     "metadata": {},
     "output_type": "execute_result"
    }
   ],
   "source": [
    "df_raw.head()"
   ]
  },
  {
   "cell_type": "markdown",
   "metadata": {},
   "source": [
    "The raw dataframe has many empty cells. There are only 203/3000 complete rows, so there needs to be careful consideration in selecting the appropriate columns to use."
   ]
  },
  {
   "cell_type": "code",
   "execution_count": 3,
   "metadata": {},
   "outputs": [
    {
     "name": "stdout",
     "output_type": "stream",
     "text": [
      "(3000, 22)\n",
      "(203, 22)\n",
      "['belongs_to_collection', 'budget', 'genres', 'homepage', 'imdb_id', 'original_language', 'original_title', 'overview', 'popularity', 'poster_path', 'production_companies', 'production_countries', 'release_date', 'runtime', 'spoken_languages', 'status', 'tagline', 'title', 'Keywords', 'cast', 'crew', 'revenue']\n"
     ]
    }
   ],
   "source": [
    "print(df_raw.shape)\n",
    "print(df_raw.dropna().shape)\n",
    "print(list(df_raw.keys()))"
   ]
  },
  {
   "cell_type": "markdown",
   "metadata": {},
   "source": [
    "### Col: belongs_to_collection\n",
    "Empty rows : 2396/3000 \\\n",
    "type: `str` \\\n",
    "content: `list` of `dict`. The `dict` has keys `id`, `name`, `poster_path`, and `backdrop_path`."
   ]
  },
  {
   "cell_type": "code",
   "execution_count": 4,
   "metadata": {
    "scrolled": true
   },
   "outputs": [
    {
     "name": "stdout",
     "output_type": "stream",
     "text": [
      "Empty rows : 2396/3000\n"
     ]
    },
    {
     "data": {
      "text/plain": [
       "\"[{'id': 313576, 'name': 'Hot Tub Time Machine Collection', 'poster_path': '/iEhb00TGPucF0b4joM1ieyY026U.jpg', 'backdrop_path': '/noeTVcgpBiD48fDjFVic1Vz7ope.jpg'}]\""
      ]
     },
     "execution_count": 4,
     "metadata": {},
     "output_type": "execute_result"
    }
   ],
   "source": [
    "col_to_inspect = 'belongs_to_collection'\n",
    "print(f'Empty rows : {df_raw[col_to_inspect].isnull().sum()}/{len(df_raw[col_to_inspect])}')\n",
    "df_raw[col_to_inspect].iloc[0]"
   ]
  },
  {
   "cell_type": "markdown",
   "metadata": {},
   "source": [
    "### budget\n",
    "Empty rows : 2396/3000 \\\n",
    "type: `int` \n",
    "Additional info: Ranges from 0 to 380e6\n"
   ]
  },
  {
   "cell_type": "code",
   "execution_count": 5,
   "metadata": {},
   "outputs": [
    {
     "name": "stdout",
     "output_type": "stream",
     "text": [
      "Empty rows : 0/3000\n",
      "Min: 0\n",
      "Max: 380000000\n"
     ]
    },
    {
     "data": {
      "image/png": "[encoded data removed]",
      "text/plain": [
       "<Figure size 432x288 with 1 Axes>"
      ]
     },
     "metadata": {
      "needs_background": "light"
     },
     "output_type": "display_data"
    }
   ],
   "source": [
    "col_to_inspect = 'budget'\n",
    "print(f'Empty rows : {df_raw[col_to_inspect].isnull().sum()}/{len(df_raw[col_to_inspect])}')\n",
    "print(f'Min: {np.min(df_raw[col_to_inspect])}')\n",
    "print(f'Max: {np.max(df_raw[col_to_inspect])}')\n",
    "df_raw[col_to_inspect].hist(bins=30)\n",
    "plt.show()"
   ]
  },
  {
   "cell_type": "markdown",
   "metadata": {},
   "source": [
    "### genres"
   ]
  },
  {
   "cell_type": "code",
   "execution_count": 6,
   "metadata": {
    "scrolled": true
   },
   "outputs": [
    {
     "name": "stdout",
     "output_type": "stream",
     "text": [
      "Empty rows : 7/3000\n"
     ]
    }
   ],
   "source": [
    "col_to_inspect = 'genres'\n",
    "print(f'Empty rows : {df_raw[col_to_inspect].isnull().sum()}/{len(df_raw[col_to_inspect])}')\n",
    "plt.show()"
   ]
  },
  {
   "cell_type": "code",
   "execution_count": 7,
   "metadata": {
    "scrolled": true
   },
   "outputs": [
    {
     "data": {
      "text/plain": [
       "id\n",
       "1                          [{'id': 35, 'name': 'Comedy'}]\n",
       "2       [{'id': 35, 'name': 'Comedy'}, {'id': 18, 'nam...\n",
       "3                           [{'id': 18, 'name': 'Drama'}]\n",
       "4       [{'id': 53, 'name': 'Thriller'}, {'id': 18, 'n...\n",
       "5       [{'id': 28, 'name': 'Action'}, {'id': 53, 'nam...\n",
       "6       [{'id': 16, 'name': 'Animation'}, {'id': 12, '...\n",
       "7       [{'id': 27, 'name': 'Horror'}, {'id': 53, 'nam...\n",
       "8                     [{'id': 99, 'name': 'Documentary'}]\n",
       "9       [{'id': 28, 'name': 'Action'}, {'id': 35, 'nam...\n",
       "10      [{'id': 35, 'name': 'Comedy'}, {'id': 10402, '...\n",
       "11                          [{'id': 18, 'name': 'Drama'}]\n",
       "12                         [{'id': 35, 'name': 'Comedy'}]\n",
       "13                          [{'id': 18, 'name': 'Drama'}]\n",
       "14      [{'id': 35, 'name': 'Comedy'}, {'id': 80, 'nam...\n",
       "15      [{'id': 28, 'name': 'Action'}, {'id': 53, 'nam...\n",
       "16      [{'id': 28, 'name': 'Action'}, {'id': 80, 'nam...\n",
       "17      [{'id': 27, 'name': 'Horror'}, {'id': 53, 'nam...\n",
       "18      [{'id': 18, 'name': 'Drama'}, {'id': 10749, 'n...\n",
       "19      [{'id': 35, 'name': 'Comedy'}, {'id': 10749, '...\n",
       "20      [{'id': 28, 'name': 'Action'}, {'id': 53, 'nam...\n",
       "21      [{'id': 12, 'name': 'Adventure'}, {'id': 10751...\n",
       "22      [{'id': 27, 'name': 'Horror'}, {'id': 53, 'nam...\n",
       "23      [{'id': 53, 'name': 'Thriller'}, {'id': 27, 'n...\n",
       "24      [{'id': 53, 'name': 'Thriller'}, {'id': 9648, ...\n",
       "25      [{'id': 27, 'name': 'Horror'}, {'id': 35, 'nam...\n",
       "26      [{'id': 35, 'name': 'Comedy'}, {'id': 27, 'nam...\n",
       "27      [{'id': 80, 'name': 'Crime'}, {'id': 18, 'name...\n",
       "28      [{'id': 18, 'name': 'Drama'}, {'id': 35, 'name...\n",
       "29                      [{'id': 16, 'name': 'Animation'}]\n",
       "30      [{'id': 28, 'name': 'Action'}, {'id': 12, 'nam...\n",
       "                              ...                        \n",
       "2971    [{'id': 53, 'name': 'Thriller'}, {'id': 28, 'n...\n",
       "2972    [{'id': 14, 'name': 'Fantasy'}, {'id': 35, 'na...\n",
       "2973    [{'id': 28, 'name': 'Action'}, {'id': 53, 'nam...\n",
       "2974    [{'id': 35, 'name': 'Comedy'}, {'id': 10751, '...\n",
       "2975    [{'id': 28, 'name': 'Action'}, {'id': 14, 'nam...\n",
       "2976    [{'id': 12, 'name': 'Adventure'}, {'id': 35, '...\n",
       "2977    [{'id': 35, 'name': 'Comedy'}, {'id': 80, 'nam...\n",
       "2978    [{'id': 18, 'name': 'Drama'}, {'id': 10749, 'n...\n",
       "2979    [{'id': 18, 'name': 'Drama'}, {'id': 10402, 'n...\n",
       "2980    [{'id': 35, 'name': 'Comedy'}, {'id': 10749, '...\n",
       "2981    [{'id': 28, 'name': 'Action'}, {'id': 35, 'nam...\n",
       "2982                        [{'id': 18, 'name': 'Drama'}]\n",
       "2983                        [{'id': 18, 'name': 'Drama'}]\n",
       "2984    [{'id': 18, 'name': 'Drama'}, {'id': 10749, 'n...\n",
       "2985    [{'id': 28, 'name': 'Action'}, {'id': 53, 'nam...\n",
       "2986    [{'id': 18, 'name': 'Drama'}, {'id': 53, 'name...\n",
       "2987    [{'id': 28, 'name': 'Action'}, {'id': 18, 'nam...\n",
       "2988    [{'id': 27, 'name': 'Horror'}, {'id': 878, 'na...\n",
       "2989                        [{'id': 18, 'name': 'Drama'}]\n",
       "2990    [{'id': 16, 'name': 'Animation'}, {'id': 10751...\n",
       "2991    [{'id': 28, 'name': 'Action'}, {'id': 35, 'nam...\n",
       "2992    [{'id': 18, 'name': 'Drama'}, {'id': 10751, 'n...\n",
       "2993    [{'id': 28, 'name': 'Action'}, {'id': 12, 'nam...\n",
       "2994    [{'id': 35, 'name': 'Comedy'}, {'id': 18, 'nam...\n",
       "2995                        [{'id': 18, 'name': 'Drama'}]\n",
       "2996    [{'id': 35, 'name': 'Comedy'}, {'id': 10749, '...\n",
       "2997    [{'id': 18, 'name': 'Drama'}, {'id': 10402, 'n...\n",
       "2998    [{'id': 80, 'name': 'Crime'}, {'id': 28, 'name...\n",
       "2999    [{'id': 35, 'name': 'Comedy'}, {'id': 10749, '...\n",
       "3000    [{'id': 53, 'name': 'Thriller'}, {'id': 28, 'n...\n",
       "Name: genres, Length: 3000, dtype: object"
      ]
     },
     "execution_count": 7,
     "metadata": {},
     "output_type": "execute_result"
    }
   ],
   "source": [
    "df_raw[col_to_inspect]"
   ]
  },
  {
   "cell_type": "code",
   "execution_count": null,
   "metadata": {},
   "outputs": [],
   "source": []
  },
  {
   "cell_type": "code",
   "execution_count": null,
   "metadata": {},
   "outputs": [],
   "source": []
  }
 ],
 "metadata": {
  "kernelspec": {
   "display_name": "Python 3",
   "language": "python",
   "name": "python3"
  },
  "language_info": {
   "codemirror_mode": {
    "name": "ipython",
    "version": 3
   },
   "file_extension": ".py",
   "mimetype": "text/x-python",
   "name": "python",
   "nbconvert_exporter": "python",
   "pygments_lexer": "ipython3",
   "version": "3.7.2"
  }
 },
 "nbformat": 4,
 "nbformat_minor": 2
}
